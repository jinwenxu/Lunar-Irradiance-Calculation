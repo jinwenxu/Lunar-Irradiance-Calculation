{
 "cells": [
  {
   "cell_type": "code",
   "execution_count": 142,
   "metadata": {},
   "outputs": [],
   "source": [
    "import pandas as pd\n",
    "import numpy as np"
   ]
  },
  {
   "cell_type": "code",
   "execution_count": 180,
   "metadata": {},
   "outputs": [],
   "source": [
    "def lunar_irrad_DNB(date_time):\n",
    "    print(\"Input Date and Time (Format = YYYYMMDDHHmm):\")\n",
    "    print(\"(YYYY= year (2010-2030), MM=month (01-12), DD=day-of-month, HH=UTC-hour (00-23), mm=minue (00-59)\")\n",
    "    print(\"NOTE VALID RANGE: From 201001010000 (Jan 1, 2010, 0000 UTC) to 203012312300 (Dec 31, 2030, 2300 UTC)\")\n",
    "    print(\"User-entered date_time = \",date_time)\n",
    "\n",
    "    test_year = int(int(date_time)/1.0e+08)\n",
    "    if((test_year < 2010)  or  (test_year > 2030)):\n",
    "        print ('Illegal Year (Valid for 2010-2030): ',test_year)\n",
    "    lun_irrad_scl(int(date_time))"
   ]
  },
  {
   "cell_type": "code",
   "execution_count": 178,
   "metadata": {},
   "outputs": [],
   "source": [
    "def lun_irrad_scl(date_time): \n",
    "\n",
    "    mean_earthsun_dist=149597870.700\n",
    "    mean_earthmoon_dist=384402.0\n",
    "    radius_earth=6378.140\n",
    "    #mean_earthsun_dist=149598016\n",
    "    #mean_earthmoon_dist=384400.0\n",
    "    #radius_earth=6378.140\n",
    "\n",
    "\n",
    "    #Shorten date/time to match table and separate minutes out\n",
    "\n",
    "    egroup = int(date_time/100)\n",
    "\n",
    "    mins = date_time - egroup*100 \n",
    "\n",
    "    if (mins == 0) :\n",
    "        exact =  True \n",
    "    else:\n",
    "        exact =  False \n",
    "\n",
    "    unit20=pd.read_csv(\"DIST_2010-2030.dat\",sep=\"\\s+\",\n",
    "                       names=['group','phase_angle','earthsun_dist','earthmoon_dist'])\n",
    "\n",
    "    #Find revelant moon phase angle, earth-sun and earth moon distance from table\n",
    "    search =  True \n",
    "    while(search):\n",
    "        for index, row in unit20.iterrows():\n",
    "            if row[\"group\"] == egroup:\n",
    "                search = False\n",
    "                group1,phase_angle1,earthsun_dist1,earthmoon_dist1 = unit20.values[index]\n",
    "                if exact:\n",
    "                    group = group1\n",
    "                    current_phase_angle = phase_angle1\n",
    "                    current_earthsun_dist = earthsun_dist1\n",
    "                    current_earthmoon_dist = earthmoon_dist1\n",
    "                if (not exact):\n",
    "                    group2,phase_angle2,earthsun_dist2,earthmoon_dist2 = unit20.values[index-1]\n",
    "                    frac = mins/60.0\n",
    "                    delta = phase_angle1 - phase_angle2\n",
    "                    current_phase_angle = phase_angle1 - (delta * frac)\n",
    "                    delta = earthsun_dist1 - earthsun_dist2\n",
    "                    current_earthsun_dist = earthsun_dist1 - (delta * frac)\n",
    "                    delta = earthmoon_dist1 - earthmoon_dist2\n",
    "                    current_earthmoon_dist = earthmoon_dist1 - (delta * frac)\n",
    "                    \n",
    "    \n",
    "    unit22=pd.read_csv(\"lunar_irrad_1AU_MeanME_CONVOLVED_DNB.dat\",sep=\"\\t\",skiprows = 3, names = 'x')\n",
    "    unit22 = unit22.x.str.strip().str.split(\" \")\n",
    "    for i in unit22:\n",
    "        while (\"\" in i): \n",
    "            i.remove(\"\") \n",
    "    unit22 = pd.DataFrame(unit22.values.tolist(), columns = [\"phase\",\"lunar_irrad\"])\n",
    "\n",
    "\n",
    "    #Determine convolved irradiance from table\n",
    "    search =  True \n",
    "    while(search):\n",
    "        for index, row in unit22.iterrows():\n",
    "            if (current_phase_angle > float(row['phase'])) :\n",
    "                phase_prev = float(row['phase'])\n",
    "                lunar_irrad_prev = float(row['lunar_irrad'])\n",
    "            else:\n",
    "                search =  False \n",
    "                frac = (float(row['phase']) - current_phase_angle) / (float(row['phase']) - phase_prev)\n",
    "                delta = float(row['lunar_irrad']) - lunar_irrad_prev\n",
    "                lunar_irrad_dnb_interp = float(row['lunar_irrad']) - (delta * frac)\n",
    "                break\n",
    "\n",
    "\n",
    "    #Compute scaling factor\n",
    "    cos_phase_angle = np.cos(np.deg2rad(current_phase_angle))\n",
    "    T1 = mean_earthsun_dist**2.0 + mean_earthmoon_dist**2.0 + 2.0*mean_earthmoon_dist*mean_earthsun_dist*cos_phase_angle\n",
    "    T2 = current_earthsun_dist**2.0 + current_earthmoon_dist**2.0 + 2.0*current_earthmoon_dist*current_earthsun_dist*cos_phase_angle\n",
    "    T3 = ((mean_earthmoon_dist-radius_earth) / (current_earthmoon_dist - radius_earth))**2.0\n",
    "\n",
    "    SCALE_FACTOR = (T1/T2)*T3\n",
    "\n",
    "    #Compute lunar irradiance\n",
    "\n",
    "    lun_irrad_scl = lunar_irrad_dnb_interp * SCALE_FACTOR\n",
    "\n",
    "    print(\"Current Earth/Moon Distance (km) and % of mean = \",current_earthmoon_dist,100.0*current_earthmoon_dist/mean_earthmoon_dist)\n",
    "    print(\"Current Earth/Sun Distance (km) and % of mean = \",current_earthsun_dist, 100.0*current_earthsun_dist/mean_earthsun_dist)\n",
    "    print(\"Current lunar phase angle (degrees) = \",current_phase_angle)\n",
    "    print(\"SCALE_FACTOR = \",SCALE_FACTOR)\n",
    "    print(\"Lunar Irradiance (mW/m^2-micron):\", lun_irrad_scl)"
   ]
  },
  {
   "cell_type": "code",
   "execution_count": 182,
   "metadata": {
    "scrolled": true
   },
   "outputs": [
    {
     "name": "stdout",
     "output_type": "stream",
     "text": [
      "Input Date and Time (Format = YYYYMMDDHHmm):\n",
      "(YYYY= year (2010-2030), MM=month (01-12), DD=day-of-month, HH=UTC-hour (00-23), mm=minue (00-59)\n",
      "NOTE VALID RANGE: From 201001010000 (Jan 1, 2010, 0000 UTC) to 203012312300 (Dec 31, 2030, 2300 UTC)\n",
      "User-entered date_time =  202001241500\n",
      "Current Earth/Moon Distance (km) and % of mean =  394361.0 102.59131113423517\n",
      "Current Earth/Sun Distance (km) and % of mean =  147255749.0 98.43429273821386\n",
      "Current lunar phase angle (degrees) =  176.201\n",
      "SCALE_FACTOR =  0.9799641609620255\n",
      "Lunar Irradiance (mW/m^2-micron): 0.0022885235542100756\n"
     ]
    }
   ],
   "source": [
    "# time format: YYYYMMDDHHmm\n",
    "lunar_irrad_DNB(202001241500)"
   ]
  },
  {
   "cell_type": "code",
   "execution_count": 183,
   "metadata": {
    "scrolled": true
   },
   "outputs": [
    {
     "name": "stdout",
     "output_type": "stream",
     "text": [
      "Input Date and Time (Format = YYYYMMDDHHmm):\n",
      "(YYYY= year (2010-2030), MM=month (01-12), DD=day-of-month, HH=UTC-hour (00-23), mm=minue (00-59)\n",
      "NOTE VALID RANGE: From 201001010000 (Jan 1, 2010, 0000 UTC) to 203012312300 (Dec 31, 2030, 2300 UTC)\n",
      "User-entered date_time =  202001101500\n",
      "Current Earth/Moon Distance (km) and % of mean =  372222.0 96.83194588969823\n",
      "Current Earth/Sun Distance (km) and % of mean =  147104160.0 98.33296184890581\n",
      "Current lunar phase angle (degrees) =  2.51\n",
      "SCALE_FACTOR =  1.1042769239676566\n",
      "Lunar Irradiance (mW/m^2-micron): 4.284322812871212\n"
     ]
    }
   ],
   "source": [
    "lunar_irrad_DNB(202001101500)"
   ]
  },
  {
   "cell_type": "code",
   "execution_count": null,
   "metadata": {},
   "outputs": [],
   "source": []
  }
 ],
 "metadata": {
  "kernelspec": {
   "display_name": "Python 3",
   "language": "python",
   "name": "python3"
  },
  "language_info": {
   "codemirror_mode": {
    "name": "ipython",
    "version": 3
   },
   "file_extension": ".py",
   "mimetype": "text/x-python",
   "name": "python",
   "nbconvert_exporter": "python",
   "pygments_lexer": "ipython3",
   "version": "3.7.0"
  }
 },
 "nbformat": 4,
 "nbformat_minor": 2
}
